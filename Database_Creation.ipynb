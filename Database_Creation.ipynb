{
 "cells": [
  {
   "cell_type": "code",
   "execution_count": 2,
   "id": "d02f17c7-dfa9-4597-a75a-7833ea2fd8b8",
   "metadata": {},
   "outputs": [],
   "source": [
    "import psycopg2"
   ]
  },
  {
   "cell_type": "code",
   "execution_count": 3,
   "id": "da690568-ee1b-4cad-95c3-6628e146ae2b",
   "metadata": {},
   "outputs": [],
   "source": [
    "conn = psycopg2.connect(\"dbname=techvector user=stefan password=gigelfrone112 host=localhost port=5432\")\n"
   ]
  },
  {
   "cell_type": "code",
   "execution_count": 4,
   "id": "9175f556-c151-4f6b-a6d5-f166b1c5dbad",
   "metadata": {},
   "outputs": [],
   "source": [
    "cur = conn.cursor()"
   ]
  },
  {
   "cell_type": "code",
   "execution_count": 64,
   "id": "5ae25454-d1a1-41f5-83b5-6b0dd8ba3f6b",
   "metadata": {},
   "outputs": [],
   "source": [
    "cur.execute(\"\"\"CREATE TABLE article (\n",
    "                link varchar PRIMARY KEY,\n",
    "                title varchar,\n",
    "                author varchar,\n",
    "                time varchar,\n",
    "                image_link varchar,\n",
    "                category varchar,\n",
    "                summary varchar,\n",
    "                questions varchar);\"\"\")"
   ]
  },
  {
   "cell_type": "code",
   "execution_count": 65,
   "id": "f3123451-6567-47cd-8a1e-d407a901f1cd",
   "metadata": {},
   "outputs": [],
   "source": [
    "cur.execute(\"\"\"commit;\"\"\")"
   ]
  },
  {
   "cell_type": "code",
   "execution_count": 5,
   "id": "2d6d5c2f-cc93-497a-a1c3-70d6d5fa5788",
   "metadata": {},
   "outputs": [],
   "source": [
    "cur.execute(\"\"\"SELECT * FROM pg_catalog.pg_tables;\"\"\")"
   ]
  },
  {
   "cell_type": "code",
   "execution_count": 62,
   "id": "75080c8e-5ed7-4ca6-ade6-279149026e72",
   "metadata": {},
   "outputs": [],
   "source": [
    "cur.execute(\"\"\"drop table article;\"\"\")"
   ]
  },
  {
   "cell_type": "code",
   "execution_count": null,
   "id": "cab417e4",
   "metadata": {},
   "outputs": [],
   "source": [
    "cur.execute(\"\"\"SELECT * FROM article;\"\"\")"
   ]
  },
  {
   "cell_type": "code",
   "execution_count": 82,
   "id": "2bd0ebde-d0a2-4d38-a006-2321da5152cc",
   "metadata": {},
   "outputs": [
    {
     "name": "stdout",
     "output_type": "stream",
     "text": [
      "('https://techcrunch.com/2025/01/07/this-baseball-radar-gun-plugs-into-an-iphone/', 'This baseball radar gun plugs into an iPhone', '1:48 PM PST · January 7, 2025', 'https://techcrunch.com/wp-content/uploads/2025/01/IMG_0750.jpeg?w=1024', 'Hardware', 'A groundbreaking baseball radar gun has been unveiled at CES 2025, designed to connect directly to an iPhone via its USB-C port, making it more accessible than ever for amateur players. The PI SpeedGun, developed by the Korean company CaiqueTech, boasts built-in radar technology that displays speed and other statistics right on your phone’s screen. Although it was showcased in a bustling exhibit hall without live demos, the company’s representative hinted at an upcoming Kickstarter launch set for June, with the device priced around $150. This innovative gadget promises to revolutionize how players track their performance on the field. ', 'What specific features does the PI SpeedGun offer beyond just measuring speed?&&&How does the accuracy of the PI SpeedGun compare to traditional radar guns?&&&What are the plans for the product after the Kickstarter campaign?')\n"
     ]
    }
   ],
   "source": [
    "for i, item in enumerate(cur):\n",
    "    if (i == 72):\n",
    "        print(item)"
   ]
  },
  {
   "cell_type": "code",
   "execution_count": 6,
   "id": "ed2fc94c-5027-47f5-aa92-37fbf7df5eca",
   "metadata": {},
   "outputs": [
    {
     "name": "stdout",
     "output_type": "stream",
     "text": [
      "('public', 'langchain_pg_collection', 'stefan', None, True, False, True, False)\n",
      "('public', 'langchain_pg_embedding', 'stefan', None, True, False, True, False)\n",
      "('public', 'article', 'stefan', None, True, False, False, False)\n",
      "('pg_catalog', 'pg_statistic', 'postgres', None, True, False, False, False)\n",
      "('pg_catalog', 'pg_type', 'postgres', None, True, False, False, False)\n",
      "('pg_catalog', 'pg_foreign_table', 'postgres', None, True, False, False, False)\n",
      "('pg_catalog', 'pg_authid', 'postgres', 'pg_global', True, False, False, False)\n",
      "('pg_catalog', 'pg_statistic_ext_data', 'postgres', None, True, False, False, False)\n",
      "('pg_catalog', 'pg_user_mapping', 'postgres', None, True, False, False, False)\n",
      "('pg_catalog', 'pg_subscription', 'postgres', 'pg_global', True, False, False, False)\n",
      "('pg_catalog', 'pg_attribute', 'postgres', None, True, False, False, False)\n",
      "('pg_catalog', 'pg_proc', 'postgres', None, True, False, False, False)\n",
      "('pg_catalog', 'pg_class', 'postgres', None, True, False, False, False)\n",
      "('pg_catalog', 'pg_attrdef', 'postgres', None, True, False, False, False)\n",
      "('pg_catalog', 'pg_constraint', 'postgres', None, True, False, False, False)\n",
      "('pg_catalog', 'pg_inherits', 'postgres', None, True, False, False, False)\n",
      "('pg_catalog', 'pg_index', 'postgres', None, True, False, False, False)\n",
      "('pg_catalog', 'pg_operator', 'postgres', None, True, False, False, False)\n",
      "('pg_catalog', 'pg_opfamily', 'postgres', None, True, False, False, False)\n",
      "('pg_catalog', 'pg_opclass', 'postgres', None, True, False, False, False)\n",
      "('pg_catalog', 'pg_am', 'postgres', None, True, False, False, False)\n",
      "('pg_catalog', 'pg_amop', 'postgres', None, True, False, False, False)\n",
      "('pg_catalog', 'pg_amproc', 'postgres', None, True, False, False, False)\n",
      "('pg_catalog', 'pg_language', 'postgres', None, True, False, False, False)\n",
      "('pg_catalog', 'pg_largeobject_metadata', 'postgres', None, True, False, False, False)\n",
      "('pg_catalog', 'pg_aggregate', 'postgres', None, True, False, False, False)\n",
      "('pg_catalog', 'pg_statistic_ext', 'postgres', None, True, False, False, False)\n",
      "('pg_catalog', 'pg_rewrite', 'postgres', None, True, False, False, False)\n",
      "('pg_catalog', 'pg_trigger', 'postgres', None, True, False, False, False)\n",
      "('pg_catalog', 'pg_event_trigger', 'postgres', None, True, False, False, False)\n",
      "('pg_catalog', 'pg_description', 'postgres', None, True, False, False, False)\n",
      "('pg_catalog', 'pg_cast', 'postgres', None, True, False, False, False)\n",
      "('pg_catalog', 'pg_enum', 'postgres', None, True, False, False, False)\n",
      "('pg_catalog', 'pg_namespace', 'postgres', None, True, False, False, False)\n",
      "('pg_catalog', 'pg_conversion', 'postgres', None, True, False, False, False)\n",
      "('pg_catalog', 'pg_depend', 'postgres', None, True, False, False, False)\n",
      "('pg_catalog', 'pg_database', 'postgres', 'pg_global', True, False, False, False)\n",
      "('pg_catalog', 'pg_db_role_setting', 'postgres', 'pg_global', True, False, False, False)\n",
      "('pg_catalog', 'pg_tablespace', 'postgres', 'pg_global', True, False, False, False)\n",
      "('pg_catalog', 'pg_auth_members', 'postgres', 'pg_global', True, False, False, False)\n",
      "('pg_catalog', 'pg_shdepend', 'postgres', 'pg_global', True, False, False, False)\n",
      "('pg_catalog', 'pg_shdescription', 'postgres', 'pg_global', True, False, False, False)\n",
      "('pg_catalog', 'pg_ts_config', 'postgres', None, True, False, False, False)\n",
      "('pg_catalog', 'pg_ts_config_map', 'postgres', None, True, False, False, False)\n",
      "('pg_catalog', 'pg_ts_dict', 'postgres', None, True, False, False, False)\n",
      "('pg_catalog', 'pg_ts_parser', 'postgres', None, True, False, False, False)\n",
      "('pg_catalog', 'pg_ts_template', 'postgres', None, True, False, False, False)\n",
      "('pg_catalog', 'pg_extension', 'postgres', None, True, False, False, False)\n",
      "('pg_catalog', 'pg_foreign_data_wrapper', 'postgres', None, True, False, False, False)\n",
      "('pg_catalog', 'pg_foreign_server', 'postgres', None, True, False, False, False)\n",
      "('pg_catalog', 'pg_policy', 'postgres', None, True, False, False, False)\n",
      "('pg_catalog', 'pg_replication_origin', 'postgres', 'pg_global', True, False, False, False)\n",
      "('pg_catalog', 'pg_default_acl', 'postgres', None, True, False, False, False)\n",
      "('pg_catalog', 'pg_init_privs', 'postgres', None, True, False, False, False)\n",
      "('pg_catalog', 'pg_seclabel', 'postgres', None, True, False, False, False)\n",
      "('pg_catalog', 'pg_shseclabel', 'postgres', 'pg_global', True, False, False, False)\n",
      "('pg_catalog', 'pg_collation', 'postgres', None, True, False, False, False)\n",
      "('pg_catalog', 'pg_partitioned_table', 'postgres', None, True, False, False, False)\n",
      "('pg_catalog', 'pg_range', 'postgres', None, True, False, False, False)\n",
      "('pg_catalog', 'pg_transform', 'postgres', None, True, False, False, False)\n",
      "('pg_catalog', 'pg_sequence', 'postgres', None, True, False, False, False)\n",
      "('pg_catalog', 'pg_publication', 'postgres', None, True, False, False, False)\n",
      "('pg_catalog', 'pg_publication_rel', 'postgres', None, True, False, False, False)\n",
      "('pg_catalog', 'pg_subscription_rel', 'postgres', None, True, False, False, False)\n",
      "('pg_catalog', 'pg_largeobject', 'postgres', None, True, False, False, False)\n",
      "('information_schema', 'sql_parts', 'postgres', None, False, False, False, False)\n",
      "('information_schema', 'sql_implementation_info', 'postgres', None, False, False, False, False)\n",
      "('information_schema', 'sql_features', 'postgres', None, False, False, False, False)\n",
      "('information_schema', 'sql_sizing', 'postgres', None, False, False, False, False)\n"
     ]
    }
   ],
   "source": [
    "for i in cur:\n",
    "    print(i)"
   ]
  }
 ],
 "metadata": {
  "kernelspec": {
   "display_name": "Python 3",
   "language": "python",
   "name": "python3"
  },
  "language_info": {
   "codemirror_mode": {
    "name": "ipython",
    "version": 3
   },
   "file_extension": ".py",
   "mimetype": "text/x-python",
   "name": "python",
   "nbconvert_exporter": "python",
   "pygments_lexer": "ipython3",
   "version": "3.10.12"
  }
 },
 "nbformat": 4,
 "nbformat_minor": 5
}
