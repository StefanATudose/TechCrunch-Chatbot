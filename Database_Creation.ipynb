{
 "cells": [
  {
   "cell_type": "code",
   "execution_count": 1,
   "id": "d02f17c7-dfa9-4597-a75a-7833ea2fd8b8",
   "metadata": {},
   "outputs": [],
   "source": [
    "import psycopg2"
   ]
  },
  {
   "cell_type": "code",
   "execution_count": 2,
   "id": "da690568-ee1b-4cad-95c3-6628e146ae2b",
   "metadata": {},
   "outputs": [],
   "source": [
    "conn = psycopg2.connect(\"dbname=techvector user=stefan password=gigelfrone112 host=localhost port=5432\")\n"
   ]
  },
  {
   "cell_type": "code",
   "execution_count": 3,
   "id": "9175f556-c151-4f6b-a6d5-f166b1c5dbad",
   "metadata": {},
   "outputs": [],
   "source": [
    "cur = conn.cursor()"
   ]
  },
  {
   "cell_type": "code",
   "execution_count": 64,
   "id": "5ae25454-d1a1-41f5-83b5-6b0dd8ba3f6b",
   "metadata": {},
   "outputs": [],
   "source": [
    "cur.execute(\"\"\"CREATE TABLE article (\n",
    "                link varchar PRIMARY KEY,\n",
    "                title varchar,\n",
    "                author varchar,\n",
    "                date timestamp,\n",
    "                image_link varchar,\n",
    "                category varchar,\n",
    "                summary varchar,\n",
    "                questions varchar);\"\"\")"
   ]
  },
  {
   "cell_type": "code",
   "execution_count": 20,
   "id": "f3123451-6567-47cd-8a1e-d407a901f1cd",
   "metadata": {},
   "outputs": [],
   "source": [
    "cur.execute(\"\"\"commit;\"\"\")"
   ]
  },
  {
   "cell_type": "code",
   "execution_count": 62,
   "id": "75080c8e-5ed7-4ca6-ade6-279149026e72",
   "metadata": {},
   "outputs": [],
   "source": [
    "cur.execute(\"\"\"drop table article;\"\"\")"
   ]
  },
  {
   "cell_type": "code",
   "execution_count": 19,
   "id": "56c73496",
   "metadata": {},
   "outputs": [],
   "source": [
    "cur.execute(\"\"\"ALTER TABLE article drop column time;\"\"\")"
   ]
  },
  {
   "cell_type": "code",
   "execution_count": 82,
   "id": "2bd0ebde-d0a2-4d38-a006-2321da5152cc",
   "metadata": {},
   "outputs": [
    {
     "name": "stdout",
     "output_type": "stream",
     "text": [
      "('https://techcrunch.com/2025/01/07/this-baseball-radar-gun-plugs-into-an-iphone/', 'This baseball radar gun plugs into an iPhone', '1:48 PM PST · January 7, 2025', 'https://techcrunch.com/wp-content/uploads/2025/01/IMG_0750.jpeg?w=1024', 'Hardware', 'A groundbreaking baseball radar gun has been unveiled at CES 2025, designed to connect directly to an iPhone via its USB-C port, making it more accessible than ever for amateur players. The PI SpeedGun, developed by the Korean company CaiqueTech, boasts built-in radar technology that displays speed and other statistics right on your phone’s screen. Although it was showcased in a bustling exhibit hall without live demos, the company’s representative hinted at an upcoming Kickstarter launch set for June, with the device priced around $150. This innovative gadget promises to revolutionize how players track their performance on the field. ', 'What specific features does the PI SpeedGun offer beyond just measuring speed?&&&How does the accuracy of the PI SpeedGun compare to traditional radar guns?&&&What are the plans for the product after the Kickstarter campaign?')\n"
     ]
    }
   ],
   "source": [
    "for i, item in enumerate(cur):\n",
    "    if (i == 72):\n",
    "        print(item)"
   ]
  },
  {
   "cell_type": "code",
   "execution_count": 5,
   "id": "ed2fc94c-5027-47f5-aa92-37fbf7df5eca",
   "metadata": {},
   "outputs": [
    {
     "name": "stdout",
     "output_type": "stream",
     "text": [
      "('https://techcrunch.com/2025/01/09/hackers-are-exploiting-a-new-ivanti-vpn-security-bug-to-hack-into-company-networks/', 'Hackers are exploiting a new Ivanti VPN security bug to hack into company networks', '4:53 AM PST · January 9, 2025', 'https://techcrunch.com/wp-content/uploads/2025/01/danger-Getty.jpg?w=1024', 'Security', 'A critical security flaw in Ivanti’s popular VPN software is under exploitation by hackers, compromising corporate networks without requiring authentication. This zero-day vulnerability, identified as CVE-2025-0282, has already led to confirmed hacks against a limited number of customers, while Ivanti has issued a patch for one of its products but not for others. Security experts suspect a China-linked cyberespionage group may be behind the attacks, raising alarms about the potential widespread impact. As investigations continue, both U.S. and U.K. cybersecurity agencies are closely monitoring the situation.', 'What specific actions is Ivanti taking in response to the discovered vulnerabilities?&&&How can companies protect themselves from the vulnerabilities in Ivanti’s VPN products?&&&What details do we have about the suspected hackers linked to these attacks?', 'Carly Page')\n",
      "('https://techcrunch.com/2025/01/08/flock-safety-quietly-hired-a-sitting-california-mayor-now-hes-suing-flock/', 'Flock Safety quietly hired a sitting California mayor. Now he’s suing Flock.', '12:39 PM PST · January 8, 2025', 'https://techcrunch.com/wp-content/uploads/2024/05/Picard-Install-selects.00_37_26_05.Still018.png?w=1024', 'Startups', 'A sitting California mayor, Ulises Cabrera, who was hired by the police surveillance startup Flock Safety, has filed a lawsuit against the company, claiming wrongful termination and harassment. Cabrera alleges that Flock pressured him to misuse his governmental position for their benefit and retaliated against him after he raised ethical concerns. The lawsuit highlights troubling implications regarding the blending of private interests and public office, especially in light of Flock’s controversial practices and ongoing legal challenges. As the case unfolds, it raises questions about the accountability of tech companies in their dealings with elected officials.', 'What specific allegations does Cabrera make against Flock regarding the misuse of his position as mayor?&&&How has Flock responded to Cabrera’s lawsuit and what are the company’s legal justifications?&&&What are the broader implications of this lawsuit on the relationship between surveillance companies and public officials?', 'Charles Rollet')\n",
      "('https://techcrunch.com/2025/01/09/doublepoint-launches-free-apple-watch-app-to-control-devices-with-hand-gestures/', 'Doublepoint launches free Apple Watch app to control devices with hand gestures', '8:00 AM PST · January 9, 2025', 'https://techcrunch.com/wp-content/uploads/2025/01/Doublepoint-WowMouse-for-Apple-Watch-with-user-lights.jpg?w=1024', 'Apps', 'A Finnish startup, Doublepoint, has unveiled an innovative app called WowMouse for the Apple Watch, which transforms hand gestures into controls for various devices. By leveraging the watch’s sensors, users can effortlessly manipulate their Mac and smart home devices with simple movements, like pointing or tapping fingers together. This groundbreaking technology, built on an extensive dataset of hand gestures, promises to simplify how we interact with our gadgets, but currently operates within the limitations of existing ecosystems. As the app gains traction, with thousands already downloading it, the company’s ambitions include licensing their technology for broader use in smart devices.', 'How does the WowMouse app differentiate itself from similar technologies already available?&&&What potential future applications does Doublepoint envision for its gesture control technology?&&&What are the current limitations of using the WowMouse app with multiple devices?', 'Maxwell Zeff')\n"
     ]
    }
   ],
   "source": [
    "for i in cur:\n",
    "    print(i)"
   ]
  },
  {
   "cell_type": "code",
   "execution_count": 13,
   "id": "ff0798ab",
   "metadata": {},
   "outputs": [],
   "source": [
    "cur.execute(\"ALTER TABLE article ADD COLUMN date timestamp;\")"
   ]
  },
  {
   "cell_type": "code",
   "execution_count": 25,
   "id": "cab417e4",
   "metadata": {},
   "outputs": [],
   "source": [
    "cur.execute(\"\"\"SELECT * FROM article order by date desc limit 10 offset 0;\"\"\")"
   ]
  },
  {
   "cell_type": "code",
   "execution_count": 26,
   "id": "b967864f",
   "metadata": {},
   "outputs": [
    {
     "name": "stdout",
     "output_type": "stream",
     "text": [
      "('https://techcrunch.com/2025/01/11/whats-behind-ballooning-video-game-budgets/', 'What’s behind ballooning video game budgets?', 'https://techcrunch.com/wp-content/uploads/2024/11/activision-call-of-duty-warzone-e1730999818603.jpg?w=1024', 'In Brief', 'The staggering rise in video game development costs, now reaching hundreds of millions, has sparked a debate about the true factors driving these budgets. While some attribute it to the relentless pursuit of hyper-realistic graphics, others, like Bloomberg’s Jason Schreier, argue that the real issue lies in the industry’s reliance on larger teams and extended production times. Mismanagement and poor decision-making often lead to wasted resources, with developers recounting tales of canceled features based on arbitrary whims. As the industry grapples with these financial pressures, a critical look at internal practices may be essential for sustainable growth.', 'What specific examples of mismanagement in game development were mentioned in the article?&&&How have video game budgets changed over the years according to the article?&&&What impact do these high budgets have on the gaming industry overall?', 'Anthony Ha', datetime.datetime(2025, 1, 11, 11, 4))\n",
      "('https://techcrunch.com/2025/01/11/everything-you-missed-at-ces-2025/', 'Everything you missed at CES 2025', 'https://techcrunch.com/wp-content/uploads/2025/01/ces-2025-generic-show-floor.jpg?w=1024', 'Social', 'This week’s tech landscape was electrified by CES 2025, showcasing groundbreaking innovations from giants like Nvidia and Samsung, including a quirky robotic cat designed to cool your beverages. Meanwhile, Meta stirred controversy by dismantling its third-party fact-checking program, igniting backlash and increased interest in account deletions. OpenAI’s CEO revealed that the popular ChatGPT Pro subscription model is unexpectedly losing money due to high usage, while TikTok faced criticism for its response to employee hardships caused by California wildfires. Amidst these developments, intriguing new products emerged, including an electric spoon that promises to enhance food flavor.', 'What were some of the most interesting gadgets showcased at CES 2025?&&&How has Meta’s change in content moderation policies affected its reputation?&&&What details were revealed about the cyberattack on the cannabis brand Stiiizy?', 'Cody Corrall', datetime.datetime(2025, 1, 11, 10, 5))\n",
      "('https://techcrunch.com/2025/01/11/i-got-soaked-driving-the-arc-sport-electric-boat/', 'I got soaked driving the Arc Sport electric boat', 'https://techcrunch.com/wp-content/uploads/2025/01/arc-boats-sean-01.jpg?w=1024', 'Transportation', 'A thrilling test drive of the Arc Sport electric boat at Lake Mead reveals a cutting-edge watercraft that combines impressive performance with sleek design. Developed by a startup founded by former SpaceX engineers, the boat boasts a robust battery and advanced technology, making it a standout in the electric boating market. However, the backdrop of Lake Mead’s declining water levels raises questions about the future of recreational boating in the region. As Arc continues to innovate, their ambitions extend beyond pleasure crafts, hinting at potential expansions into government and defense sectors.', 'What are the key features that set the Arc Sport apart from traditional gas boats?&&&How does the decline in Lake Mead’s water levels impact the boating community and Arc’s business plans?&&&What are the future aspirations of Arc regarding electric watercraft beyond recreational use?', 'Sean O’Kane', datetime.datetime(2025, 1, 11, 9, 53))\n",
      "('https://techcrunch.com/2025/01/11/matt-mullenweg-deactivates-wordpress-accounts-of-contributors-planning-a-fork/', 'Matt Mullenweg deactivates WordPress contributor accounts over alleged fork plans', 'https://techcrunch.com/wp-content/uploads/2024/10/matt-mullenweg-bling-watch.jpg?w=1024', 'Apps', 'Tensions are rising within the WordPress community as CEO Matt Mullenweg has deactivated the accounts of several contributors, allegedly linked to plans for a new fork of the platform. This move follows a public spat with WP Engine, which escalated to legal actions over access to WordPress resources. Key figures like Joost de Valk and Karim Marucchi have expressed their vision for a new direction for WordPress, emphasizing the need for independent repositories and better governance. Mullenweg’s sarcastic remarks and suggestions for a new fork have sparked curiosity about the future of the open-source project, with implications for its community and governance.', 'What were the specific reasons behind Mullenweg’s decision to deactivate the contributors’ accounts?&&&How did the conflict with WP Engine escalate to legal actions, and what were the outcomes?&&&What are the implications of creating independent repositories for WordPress, as discussed by de Valk and Marucchi?', 'Paul Sawers', datetime.datetime(2025, 1, 11, 9, 21))\n",
      "('https://techcrunch.com/2025/01/11/nvidias-ai-empire-a-look-at-its-top-startup-investments/', 'Nvidia’s AI empire: A look at its top startup investments', 'https://techcrunch.com/wp-content/uploads/2024/11/GettyImages-2183848501.jpg?w=1024', 'AI', 'Nvidia has emerged as a dominant player in the AI investment landscape, dramatically increasing its funding activities in the sector over the past two years. With a staggering 83 deals under its belt, the chip giant has backed numerous groundbreaking startups, including significant investments in OpenAI and Elon Musk’s xAI. Its aggressive strategy aims to foster an expansive AI ecosystem, positioning Nvidia at the forefront of technological innovation. As the company continues to leverage its soaring revenue and market influence, its role in shaping the future of AI is becoming increasingly pivotal.', 'What specific strategies is Nvidia using to identify and select the startups it invests in?&&&How has Nvidia’s investment in AI companies impacted its overall business performance?&&&Can you provide more details about some of the most notable startups Nvidia has invested in?', 'Marina Temkin', datetime.datetime(2025, 1, 11, 7, 0))\n",
      "('https://techcrunch.com/2025/01/11/apple-board-opposes-proposal-to-abolish-dei-programs/', 'Apple board opposes proposal to abolish DEI programs', 'https://techcrunch.com/wp-content/uploads/2023/06/sddefault_5a0ed2.jpg?w=640', 'In Brief', 'Apple’s board is firmly standing against a proposal aimed at abolishing its Diversity, Equity, and Inclusion (DEI) programs, which comes from a conservative think tank. The proposal argues that such programs could expose the company to legal risks, especially following a recent Supreme Court ruling against race-based affirmative action. However, Apple defends its DEI initiatives, asserting they have robust compliance measures in place to mitigate any potential legal issues. The board emphasizes its commitment to fostering an inclusive workplace culture that benefits all employees. ', 'What are the main arguments Apple presented against the proposal to abolish DEI programs?&&&What has been the response from other companies regarding their DEI programs following the Supreme Court ruling?&&&How does Apple define its commitment to diversity and inclusion in its workplace?', 'Anthony Ha', datetime.datetime(2025, 1, 11, 3, 36))\n",
      "('https://techcrunch.com/2025/01/11/researchers-open-source-sky-t1-a-reasoning-ai-model-that-can-be-trained-for-less-than-450/', 'Researchers open source Sky-T1, a ‘reasoning’ AI model that can be trained for less than $450', 'https://techcrunch.com/wp-content/uploads/2024/04/GettyImages-1652364481.jpg?w=1024', 'AI', 'A groundbreaking advancement in AI has emerged with the release of Sky-T1-32B-Preview, a reasoning model developed by NovaSky researchers at UC Berkeley. This model not only rivals earlier versions of OpenAI’s offerings but can also be trained for a mere $450, a staggering reduction from the millions typically required for similar performance. Sky-T1’s ability to self-fact-check enhances its reliability in complex fields like mathematics and science, despite taking slightly longer to produce answers. The NovaSky team hints at future developments, promising even more efficient and capable models on the horizon.', 'What specific features make Sky-T1 unique compared to other reasoning models?&&&How does the training process of Sky-T1 differ from traditional AI models?&&&What future projects does the NovaSky team have planned for reasoning AI models?', 'Kyle Wiggers', datetime.datetime(2025, 1, 11, 1, 30))\n",
      "('https://techcrunch.com/2025/01/10/how-openais-bot-crushed-this-seven-person-companys-web-site-like-a-ddos-attack/', 'How OpenAI’s bot crushed this seven-person company’s website ‘like a DDoS attack’', 'https://techcrunch.com/wp-content/uploads/2025/01/Triplegangers-product-page.png?w=1024', 'AI', 'A small e-commerce company, Triplegangers, found its website overwhelmed and taken offline by an aggressive bot from OpenAI that was attempting to scrape its extensive database of 3D human models. Despite having terms of service that prohibit unauthorized scraping, the company’s lack of a properly configured robot.txt file allowed the bot to exploit their site, leading to a flood of server requests and potential loss of copyrighted materials. As CEO Oleksandr Tomchuk scrambled to implement safeguards and block the bot, he highlighted the broader issue of AI companies scraping data without permission, likening the situation to a mafia-style shakedown. With no clear way to identify what was taken or how to retrieve it, Triplegangers has placed itself on high alert, warning other small businesses to be vigilant against similar threats.', 'What specific measures did Triplegangers implement to protect their website after the incident?&&&How do the rules around robot.txt files impact the ability of websites to protect their data from AI crawlers?&&&What are the potential legal implications for AI companies that scrape data without permission, especially in relation to copyright laws?', 'Julie Bort', datetime.datetime(2025, 1, 10, 12, 51))\n",
      "('https://techcrunch.com/2025/01/10/vcs-say-ai-companies-need-proprietary-data-to-stand-out-from-the-pack/', 'VCs say AI companies need proprietary data to stand out from the pack', 'https://techcrunch.com/wp-content/uploads/2024/07/data-breach-overview-v2.jpg?w=1024', 'AI', 'In 2024, AI companies attracted over $100 billion in venture capital, marking a staggering 80% increase from the previous year. However, with the rapid growth of the industry, investors face the challenge of identifying standout startups amidst a crowded market. Experts emphasize that proprietary data is crucial for establishing a competitive edge, as it allows companies to deliver superior products and create effective user experiences. The focus is now on startups that not only possess unique data but also excel in integrating that data within specific business workflows.', 'What role does proprietary data play in the success of AI startups according to the article?&&&How are venture capitalists assessing AI startups in such a competitive landscape?&&&What specific qualities are VCs looking for in AI teams and their technologies?', 'Rebecca Szkutak', datetime.datetime(2025, 1, 10, 12, 38))\n",
      "('https://techcrunch.com/2025/01/10/lenovos-latest-form-factors-prove-pcs-can-still-be-fun/', 'Lenovo’s latest form factors prove PCs can still be fun', 'https://techcrunch.com/wp-content/uploads/2025/01/IMG_0918.jpeg?w=1024', 'Hardware', 'Lenovo is shaking up the PC landscape with innovative designs that go beyond conventional updates, showcasing exciting new products at CES 2025. Among the highlights is the ThinkBook Plus Gen 6, a rollable laptop that expands to a generous 16.7 inches at the press of a button, merging portability with a larger screen experience. Other intriguing concepts include a motion-tracking desktop that adapts to the user’s movements and an eco-friendly design crafted from bamboo and corn. These bold moves not only emphasize creativity in technology but also hint at a future where functionality meets sustainability.', 'What are the key features of the ThinkBook Plus Gen 6 rollable laptop?&&&How does the motion-tracking desktop work, and what are its unique capabilities?&&&What sustainability efforts is Lenovo incorporating into its new hardware designs?', 'Brian Heater', datetime.datetime(2025, 1, 10, 12, 14))\n"
     ]
    }
   ],
   "source": [
    "articles = []\n",
    "for i in cur:\n",
    "    #articles.append(i)\n",
    "\n",
    "    print(i)"
   ]
  },
  {
   "cell_type": "code",
   "execution_count": 15,
   "id": "df4249b5",
   "metadata": {},
   "outputs": [],
   "source": [
    "dates = {'January': 1, 'February': 2, 'March': 3, 'April': 4, 'May': 5,\n",
    "         'June': 6, 'July': 7, 'August': 8, 'September': 9, 'October': 10,\n",
    "         'November': 11, 'December': 12}\n",
    "\n",
    "for article in articles:\n",
    "    newdate = article[0].replace(',', '')\n",
    "    newdate = newdate.split()\n",
    "    newdate = f\"{newdate[-1]}-{dates[newdate[-3]]}-{newdate[-2]} {newdate[0]}\"\n",
    "    # print(newdate)\n",
    "    # break\n",
    "    cur.execute(f\"UPDATE article SET date = '{newdate}' WHERE link = '{article[1]}';\")\n"
   ]
  },
  {
   "cell_type": "code",
   "execution_count": 16,
   "id": "1a614a73",
   "metadata": {},
   "outputs": [
    {
     "name": "stdout",
     "output_type": "stream",
     "text": [
      "['PST', 'PST', 'PST', 'PST', 'PST', 'PST', 'PST', 'PST', 'PST', 'PST', 'PST', 'PST', 'PST', 'PST', 'PST', 'PST', 'PST', 'PST', 'PST', 'PST', 'PST', 'PST', 'PST', 'PST', 'PST', 'PST', 'PST', 'PST', 'PST', 'PST', 'PST', 'PST', 'PST', 'PST', 'PST', 'PST', 'PST', 'PST', 'PST', 'PST', 'PST', 'PST', 'PST', 'PST', 'PST', 'PST', 'PST', 'PST', 'PST', 'PST', 'PST', 'PST', 'PST', 'PST', 'PST', 'PST', 'PST', 'PST', 'PST', 'PST', 'PST', 'PST', 'PST', 'PST', 'PST', 'PST', 'PST', 'PST', 'PST', 'PST', 'PST', 'PST', 'PST', 'PST', 'PST', 'PST', 'PST', 'PST', 'PST', 'PST', 'PST', 'PST', 'PST', 'PST', 'PST', 'PST', 'PST', 'PST', 'PST', 'PST', 'PST', 'PST', 'PST', 'PST', 'PST', 'PST', 'PST', 'PST', 'PST', 'PST', 'PST', 'PST', 'PST', 'PST', 'PST', 'PST', 'PST', 'PST', 'PST', 'PST', 'PST', 'PST', 'PST', 'PST', 'PST', 'PST', 'PST', 'PST', 'PST', 'PST', 'PST', 'PST', 'PST', 'PST', 'PST', 'PST', 'PST', 'PST', 'PST', 'PST', 'PST', 'PST', 'PST', 'PST', 'PST', 'PST', 'PST', 'PST', 'PST', 'PST', 'PST', 'PST', 'PST', 'PST', 'PST', 'PST', 'PST', 'PST', 'PST', 'PST', 'PST', 'PST', 'PST', 'PST', 'PST', 'PST', 'PST', 'PST', 'PST', 'PST', 'PST', 'PST', 'PST', 'PST', 'PST', 'PST', 'PST', 'PST', 'PST', 'PST', 'PST', 'PST', 'PST', 'PST', 'PST', 'PST', 'PST', 'PST', 'PST', 'PST', 'PST', 'PST', 'PST', 'PST', 'PST', 'PST', 'PST', 'PST', 'PST', 'PST', 'PST', 'PST', 'PST', 'PST', 'PST', 'PST', 'PST', 'PST', 'PST', 'PST', 'PST', 'PST', 'PST', 'PST', 'PST', 'PST', 'PST', 'PST', 'PST', 'PST', 'PST', 'PST', 'PST', 'PST', 'PST', 'PST', 'PST', 'PST', 'PST', 'PST', 'PST', 'PST', 'PST', 'PST', 'PST', 'PST', 'PST', 'PST', 'PST', 'PST', 'PST', 'PST', 'PST', 'PST', 'PST', 'PST', 'PST', 'PST', 'PST', 'PST', 'PST', 'PST', 'PST', 'PST', 'PST', 'PST', 'PST', 'PST', 'PST', 'PST', 'PST', 'PST', 'PST', 'PST', 'PST', 'PST', 'PST', 'PST', 'PST', 'PST', 'PST', 'PST', 'PST', 'PST', 'PST', 'PST', 'PST', 'PST', 'PST', 'PST', 'PST', 'PST', 'PST', 'PST', 'PST', 'PST', 'PST', 'PST', 'PST', 'PST', 'PST', 'PST', 'PST', 'PST', 'PST', 'PST', 'PST', 'PST', 'PST', 'PST', 'PST', 'PST', 'PST']\n"
     ]
    }
   ],
   "source": [
    "dates = []\n",
    "\n",
    "for i in cur:\n",
    "    dates.append(i)\n",
    "\n",
    "\n",
    "dates = [date[0].split()[2] for date in dates]\n",
    "\n",
    "print(dates)"
   ]
  },
  {
   "cell_type": "code",
   "execution_count": 17,
   "id": "bf4c3ffd",
   "metadata": {},
   "outputs": [
    {
     "data": {
      "text/plain": [
       "{'PST'}"
      ]
     },
     "execution_count": 17,
     "metadata": {},
     "output_type": "execute_result"
    }
   ],
   "source": [
    "dates = set(dates)\n",
    "dates"
   ]
  }
 ],
 "metadata": {
  "kernelspec": {
   "display_name": "Python 3",
   "language": "python",
   "name": "python3"
  },
  "language_info": {
   "codemirror_mode": {
    "name": "ipython",
    "version": 3
   },
   "file_extension": ".py",
   "mimetype": "text/x-python",
   "name": "python",
   "nbconvert_exporter": "python",
   "pygments_lexer": "ipython3",
   "version": "3.10.12"
  }
 },
 "nbformat": 4,
 "nbformat_minor": 5
}
