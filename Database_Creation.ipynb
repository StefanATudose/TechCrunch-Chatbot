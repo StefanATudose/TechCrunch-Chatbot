{
 "cells": [
  {
   "cell_type": "code",
   "execution_count": 3,
   "id": "d02f17c7-dfa9-4597-a75a-7833ea2fd8b8",
   "metadata": {},
   "outputs": [],
   "source": [
    "import psycopg2"
   ]
  },
  {
   "cell_type": "code",
   "execution_count": 6,
   "id": "da690568-ee1b-4cad-95c3-6628e146ae2b",
   "metadata": {},
   "outputs": [],
   "source": [
    "conn = psycopg2.connect(\"dbname=techvector user=stefan password=gigelfrone112 host=localhost port=5432\")\n"
   ]
  },
  {
   "cell_type": "code",
   "execution_count": 7,
   "id": "9175f556-c151-4f6b-a6d5-f166b1c5dbad",
   "metadata": {},
   "outputs": [],
   "source": [
    "cur = conn.cursor()"
   ]
  },
  {
   "cell_type": "code",
   "execution_count": 64,
   "id": "5ae25454-d1a1-41f5-83b5-6b0dd8ba3f6b",
   "metadata": {},
   "outputs": [],
   "source": [
    "cur.execute(\"\"\"CREATE TABLE article (\n",
    "                link varchar PRIMARY KEY,\n",
    "                title varchar,\n",
    "                time varchar,\n",
    "                image_link varchar,\n",
    "                category varchar,\n",
    "                summary varchar,\n",
    "                questions varchar);\"\"\")"
   ]
  },
  {
   "cell_type": "code",
   "execution_count": 65,
   "id": "f3123451-6567-47cd-8a1e-d407a901f1cd",
   "metadata": {},
   "outputs": [],
   "source": [
    "cur.execute(\"\"\"commit;\"\"\")"
   ]
  },
  {
   "cell_type": "code",
   "execution_count": 47,
   "id": "2d6d5c2f-cc93-497a-a1c3-70d6d5fa5788",
   "metadata": {},
   "outputs": [],
   "source": [
    "cur.execute(\"\"\"SELECT * FROM pg_catalog.pg_tables;\"\"\")"
   ]
  },
  {
   "cell_type": "code",
   "execution_count": 62,
   "id": "75080c8e-5ed7-4ca6-ade6-279149026e72",
   "metadata": {},
   "outputs": [],
   "source": [
    "cur.execute(\"\"\"drop table article;\"\"\")"
   ]
  },
  {
   "cell_type": "code",
   "execution_count": 81,
   "id": "6e564db0-e0da-4b0c-a678-c3375ef54526",
   "metadata": {},
   "outputs": [],
   "source": [
    "cur.execute(\"\"\"SELECT * FROM article;\"\"\")"
   ]
  },
  {
   "cell_type": "code",
   "execution_count": 82,
   "id": "2bd0ebde-d0a2-4d38-a006-2321da5152cc",
   "metadata": {},
   "outputs": [
    {
     "name": "stdout",
     "output_type": "stream",
     "text": [
      "('https://techcrunch.com/2025/01/07/this-baseball-radar-gun-plugs-into-an-iphone/', 'This baseball radar gun plugs into an iPhone', '1:48 PM PST · January 7, 2025', 'https://techcrunch.com/wp-content/uploads/2025/01/IMG_0750.jpeg?w=1024', 'Hardware', 'A groundbreaking baseball radar gun has been unveiled at CES 2025, designed to connect directly to an iPhone via its USB-C port, making it more accessible than ever for amateur players. The PI SpeedGun, developed by the Korean company CaiqueTech, boasts built-in radar technology that displays speed and other statistics right on your phone’s screen. Although it was showcased in a bustling exhibit hall without live demos, the company’s representative hinted at an upcoming Kickstarter launch set for June, with the device priced around $150. This innovative gadget promises to revolutionize how players track their performance on the field. ', 'What specific features does the PI SpeedGun offer beyond just measuring speed?&&&How does the accuracy of the PI SpeedGun compare to traditional radar guns?&&&What are the plans for the product after the Kickstarter campaign?')\n"
     ]
    }
   ],
   "source": [
    "for i, item in enumerate(cur):\n",
    "    if (i == 72):\n",
    "        print(item)"
   ]
  },
  {
   "cell_type": "code",
   "execution_count": null,
   "id": "ed2fc94c-5027-47f5-aa92-37fbf7df5eca",
   "metadata": {},
   "outputs": [],
   "source": []
  }
 ],
 "metadata": {
  "kernelspec": {
   "display_name": "Python 3 (ipykernel)",
   "language": "python",
   "name": "python3"
  },
  "language_info": {
   "codemirror_mode": {
    "name": "ipython",
    "version": 3
   },
   "file_extension": ".py",
   "mimetype": "text/x-python",
   "name": "python",
   "nbconvert_exporter": "python",
   "pygments_lexer": "ipython3",
   "version": "3.10.12"
  }
 },
 "nbformat": 4,
 "nbformat_minor": 5
}
